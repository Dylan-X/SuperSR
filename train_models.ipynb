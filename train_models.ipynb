{
 "cells": [
  {
   "cell_type": "markdown",
   "metadata": {},
   "source": [
    "# Tutorials for training Models"
   ]
  },
  {
   "cell_type": "code",
   "execution_count": 1,
   "metadata": {},
   "outputs": [],
   "source": [
    "import os\n",
    "import tensorflow as tf\n",
    "import glob\n",
    "%load_ext autoreload\n",
    "%autoreload 2\n",
    "%matplotlib inline"
   ]
  },
  {
   "cell_type": "markdown",
   "metadata": {},
   "source": [
    "## Preparing for Data"
   ]
  },
  {
   "cell_type": "markdown",
   "metadata": {},
   "source": [
    "- Data preparing in CNN-based super-resolution research is always based on one assumption: Lr image is the `bicubic` downsampled version of Hr image. However we support many kind of degradations such as `gaussian` kernel, `bilinear` kernel, additive noise and so on. \n",
    "\n",
    "- We usually crop images into patches for convenience of training, but reconstruct the whole image when testing (when full convolution net). Based on the fact that the order of downsampling and cropping operation doesn't matter, I suggest to crop the image and save patches to `tfrecord` file first, then use `map` method to downsample each hr-patch."
   ]
  },
  {
   "cell_type": "code",
   "execution_count": 2,
   "metadata": {},
   "outputs": [],
   "source": [
    "train_dir = \"./Image/set14\" # Arbitrary\n",
    "valid_dir = \"./Image/set5\"\n",
    "AUTOTUNE = tf.data.experimental.AUTOTUNE\n",
    "SCALE = 3"
   ]
  },
  {
   "cell_type": "code",
   "execution_count": 3,
   "metadata": {},
   "outputs": [],
   "source": [
    "from src.write2tfrec import write_dst_tfrec, load_tfrecord\n",
    "\n",
    "cache_dir = \"./cache\"\n",
    "os.makedirs(cache_dir, exist_ok=True)"
   ]
  },
  {
   "cell_type": "markdown",
   "metadata": {},
   "source": [
    "Saving patch into tfrecord file. IF saved, we can use directly."
   ]
  },
  {
   "cell_type": "code",
   "execution_count": 6,
   "metadata": {
    "scrolled": true
   },
   "outputs": [
    {
     "name": "stdout",
     "output_type": "stream",
     "text": [
      "========================================WRITING TO TFRECORD=========================================\n"
     ]
    },
    {
     "name": "stderr",
     "output_type": "stream",
     "text": [
      "12it [00:00, 39.19it/s]\n"
     ]
    },
    {
     "name": "stdout",
     "output_type": "stream",
     "text": [
      "========================================WRITING TO TFRECORD=========================================\n"
     ]
    },
    {
     "name": "stderr",
     "output_type": "stream",
     "text": [
      "5it [00:00, 42.13it/s]\n"
     ]
    }
   ],
   "source": [
    "\n",
    "if not os.path.isfile(\"./cache/set14_train_48x48.tfrec\"):\n",
    "    paths = list(glob.glob(os.path.join(train_dir, \"*\")))\n",
    "    write_dst_tfrec(paths, 10, 48, \"./cache/set14_train_48x48.tfrec\")\n",
    "    \n",
    "if not os.path.isfile(\"./cache/set5_valid_48x48.tfrec\"):\n",
    "    paths = list(glob.glob(os.path.join(valid_dir, \"*\")))\n",
    "    write_dst_tfrec(paths, 10, 48, \"./cache/set5_valid_48x48.tfrec\")\n",
    "\n"
   ]
  },
  {
   "cell_type": "markdown",
   "metadata": {},
   "source": [
    "Input should be hr-patch, and output should be data pair (inputs, labels).\n",
    "The degradation function used here is pre-defined in `preprocess.py` file, one can \n",
    "customize if needed."
   ]
  },
  {
   "cell_type": "code",
   "execution_count": 4,
   "metadata": {},
   "outputs": [],
   "source": [
    "from src.preprocess import degrade_image\n",
    "\n",
    "def preprocess(hr):\n",
    "    lr, hr = degrade_image(hr, SCALE, method=-1, restore_shape=False, kernel_sigma=0.5)\n",
    "    return lr, hr\n"
   ]
  },
  {
   "cell_type": "markdown",
   "metadata": {},
   "source": [
    "Load tfrecord file and map the preprocess function. \n",
    "`repeat()` makes the dataset repeat infinitely."
   ]
  },
  {
   "cell_type": "code",
   "execution_count": 5,
   "metadata": {},
   "outputs": [],
   "source": [
    "trdst = load_tfrecord(48, \"./cache/set14_train_48x48.tfrec\").map(preprocess).repeat()\n",
    "valdst = load_tfrecord(48, \"./cache/set5_valid_48x48.tfrec\").map(preprocess)\n"
   ]
  },
  {
   "cell_type": "markdown",
   "metadata": {},
   "source": [
    "## Train a pre-defined model"
   ]
  },
  {
   "cell_type": "code",
   "execution_count": 6,
   "metadata": {},
   "outputs": [],
   "source": [
    "from src.model import EDSR_baseline"
   ]
  },
  {
   "cell_type": "markdown",
   "metadata": {},
   "source": [
    "Here we train EDSR-baseline model for example. "
   ]
  },
  {
   "cell_type": "code",
   "execution_count": 7,
   "metadata": {},
   "outputs": [],
   "source": [
    "model = EDSR_baseline(scale=SCALE, model_name=\"EDSR_Baseline\",\n",
    "                      channel=3).create_model(load_weights=False,\n",
    "                                              weights_path=None)\n"
   ]
  },
  {
   "cell_type": "code",
   "execution_count": 9,
   "metadata": {},
   "outputs": [
    {
     "name": "stdout",
     "output_type": "stream",
     "text": [
      "Training model : EDSR_Baseline_X3\n"
     ]
    },
    {
     "name": "stderr",
     "output_type": "stream",
     "text": [
      "W0623 15:55:35.973358 12892 training_utils.py:1353] Expected a shuffled dataset but input dataset `x` is not shuffled. Please invoke `shuffle()` on input dataset.\n",
      "W0623 15:55:36.222787 12892 tf_logging.py:161] Model failed to serialize as JSON. Ignoring... \n"
     ]
    },
    {
     "name": "stdout",
     "output_type": "stream",
     "text": [
      "Epoch 1/2\n",
      "19/20 [===========================>..] - ETA: 1:56 - loss: 0.0978 - psnr_tf: 10.32 - ETA: 57s - loss: 0.0972 - psnr_tf: 10.4201 - ETA: 36s - loss: 0.1054 - psnr_tf: 10.131 - ETA: 25s - loss: 0.1045 - psnr_tf: 10.134 - ETA: 19s - loss: 0.0983 - psnr_tf: 10.423 - ETA: 15s - loss: 0.0924 - psnr_tf: 10.734 - ETA: 12s - loss: 0.0962 - psnr_tf: 10.604 - ETA: 8s - loss: 0.0898 - psnr_tf: 10.946 - ETA: 6s - loss: 0.0872 - psnr_tf: 11.07 - ETA: 5s - loss: 0.0865 - psnr_tf: 11.11 - ETA: 4s - loss: 0.0842 - psnr_tf: 11.23 - ETA: 3s - loss: 0.0814 - psnr_tf: 11.42 - ETA: 2s - loss: 0.0795 - psnr_tf: 11.54 - ETA: 2s - loss: 0.0787 - psnr_tf: 11.58 - ETA: 1s - loss: 0.0775 - psnr_tf: 11.63 - ETA: 1s - loss: 0.0757 - psnr_tf: 11.74 - ETA: 0s - loss: 0.0751 - psnr_tf: 11.77 - ETA: 0s - loss: 0.0741 - psnr_tf: 11.8186\n",
      "Epoch 00001: saving model to ./weights/EDSR_Baseline_X3.h5\n",
      "20/20 [==============================] - 8s 411ms/step - loss: 0.0725 - psnr_tf: 11.9326 - val_loss: 0.0542 - val_psnr_tf: 13.1101\n",
      "Epoch 2/2\n",
      "19/20 [===========================>..] - ETA: 1s - loss: 0.0427 - psnr_tf: 14.56 - ETA: 0s - loss: 0.0664 - psnr_tf: 12.79 - ETA: 0s - loss: 0.0633 - psnr_tf: 12.77 - ETA: 0s - loss: 0.0547 - psnr_tf: 13.57 - ETA: 0s - loss: 0.0526 - psnr_tf: 13.65 - ETA: 0s - loss: 0.0529 - psnr_tf: 13.54 - ETA: 0s - loss: 0.0513 - psnr_tf: 13.62 - ETA: 0s - loss: 0.0492 - psnr_tf: 13.79 - ETA: 0s - loss: 0.0490 - psnr_tf: 13.81 - ETA: 0s - loss: 0.0498 - psnr_tf: 13.73 - ETA: 0s - loss: 0.0487 - psnr_tf: 13.80 - ETA: 0s - loss: 0.0473 - psnr_tf: 13.94 - ETA: 0s - loss: 0.0478 - psnr_tf: 13.87 - ETA: 0s - loss: 0.0467 - psnr_tf: 13.94 - ETA: 0s - loss: 0.0459 - psnr_tf: 14.00 - ETA: 0s - loss: 0.0463 - psnr_tf: 13.96 - ETA: 0s - loss: 0.0462 - psnr_tf: 13.96 - ETA: 0s - loss: 0.0454 - psnr_tf: 14.0334\n",
      "Epoch 00002: saving model to ./weights/EDSR_Baseline_X3.h5\n",
      "20/20 [==============================] - 2s 76ms/step - loss: 0.0451 - psnr_tf: 14.0465 - val_loss: 0.0412 - val_psnr_tf: 14.0507\n"
     ]
    },
    {
     "data": {
      "text/plain": [
       "<src.model.EDSR.EDSR_baseline at 0x11c19ed7828>"
      ]
     },
     "execution_count": 9,
     "metadata": {},
     "output_type": "execute_result"
    }
   ],
   "source": [
    "model.fit(trdst,\n",
    "          valdst,\n",
    "          nb_epochs=2,\n",
    "          steps_per_epoch=20,\n",
    "          batch_size=16,\n",
    "          use_wn=False)"
   ]
  },
  {
   "cell_type": "markdown",
   "metadata": {},
   "source": [
    "**Model's Info**"
   ]
  },
  {
   "cell_type": "code",
   "execution_count": 10,
   "metadata": {},
   "outputs": [
    {
     "name": "stdout",
     "output_type": "stream",
     "text": [
      "Model: \"model\"\n",
      "__________________________________________________________________________________________________\n",
      "Layer (type)                    Output Shape         Param #     Connected to                     \n",
      "==================================================================================================\n",
      "input_1 (InputLayer)            [(None, None, None,  0                                            \n",
      "__________________________________________________________________________________________________\n",
      "conv2d (Conv2D)                 (None, None, None, 6 1792        input_1[0][0]                    \n",
      "__________________________________________________________________________________________________\n",
      "res0 (_ResBlock)                (None, None, None, 6 73856       conv2d[0][0]                     \n",
      "__________________________________________________________________________________________________\n",
      "res1 (_ResBlock)                (None, None, None, 6 73856       res0[0][0]                       \n",
      "__________________________________________________________________________________________________\n",
      "res2 (_ResBlock)                (None, None, None, 6 73856       res1[0][0]                       \n",
      "__________________________________________________________________________________________________\n",
      "res3 (_ResBlock)                (None, None, None, 6 73856       res2[0][0]                       \n",
      "__________________________________________________________________________________________________\n",
      "res4 (_ResBlock)                (None, None, None, 6 73856       res3[0][0]                       \n",
      "__________________________________________________________________________________________________\n",
      "res5 (_ResBlock)                (None, None, None, 6 73856       res4[0][0]                       \n",
      "__________________________________________________________________________________________________\n",
      "res6 (_ResBlock)                (None, None, None, 6 73856       res5[0][0]                       \n",
      "__________________________________________________________________________________________________\n",
      "res7 (_ResBlock)                (None, None, None, 6 73856       res6[0][0]                       \n",
      "__________________________________________________________________________________________________\n",
      "res8 (_ResBlock)                (None, None, None, 6 73856       res7[0][0]                       \n",
      "__________________________________________________________________________________________________\n",
      "res9 (_ResBlock)                (None, None, None, 6 73856       res8[0][0]                       \n",
      "__________________________________________________________________________________________________\n",
      "res10 (_ResBlock)               (None, None, None, 6 73856       res9[0][0]                       \n",
      "__________________________________________________________________________________________________\n",
      "res11 (_ResBlock)               (None, None, None, 6 73856       res10[0][0]                      \n",
      "__________________________________________________________________________________________________\n",
      "res12 (_ResBlock)               (None, None, None, 6 73856       res11[0][0]                      \n",
      "__________________________________________________________________________________________________\n",
      "res13 (_ResBlock)               (None, None, None, 6 73856       res12[0][0]                      \n",
      "__________________________________________________________________________________________________\n",
      "res14 (_ResBlock)               (None, None, None, 6 73856       res13[0][0]                      \n",
      "__________________________________________________________________________________________________\n",
      "res15 (_ResBlock)               (None, None, None, 6 73856       res14[0][0]                      \n",
      "__________________________________________________________________________________________________\n",
      "conv2d_33 (Conv2D)              (None, None, None, 6 36928       res15[0][0]                      \n",
      "__________________________________________________________________________________________________\n",
      "add (Add)                       (None, None, None, 6 0           conv2d[0][0]                     \n",
      "                                                                 conv2d_33[0][0]                  \n",
      "__________________________________________________________________________________________________\n",
      "subpixel_layer (SubpixelLayer)  (None, None, None, 6 332352      add[0][0]                        \n",
      "__________________________________________________________________________________________________\n",
      "conv2d_35 (Conv2D)              (None, None, None, 3 1731        subpixel_layer[0][0]             \n",
      "__________________________________________________________________________________________________\n",
      "mean_shift_1 (MeanShift)        (None, None, None, 3 0           conv2d_35[0][0]                  \n",
      "==================================================================================================\n",
      "Total params: 1,554,499\n",
      "Trainable params: 1,554,499\n",
      "Non-trainable params: 0\n",
      "__________________________________________________________________________________________________\n"
     ]
    }
   ],
   "source": [
    "model.model.summary()"
   ]
  },
  {
   "cell_type": "code",
   "execution_count": null,
   "metadata": {},
   "outputs": [],
   "source": []
  }
 ],
 "metadata": {
  "kernelspec": {
   "display_name": "Python 3",
   "language": "python",
   "name": "python3"
  },
  "language_info": {
   "codemirror_mode": {
    "name": "ipython",
    "version": 3
   },
   "file_extension": ".py",
   "mimetype": "text/x-python",
   "name": "python",
   "nbconvert_exporter": "python",
   "pygments_lexer": "ipython3",
   "version": "3.7.3"
  }
 },
 "nbformat": 4,
 "nbformat_minor": 2
}
